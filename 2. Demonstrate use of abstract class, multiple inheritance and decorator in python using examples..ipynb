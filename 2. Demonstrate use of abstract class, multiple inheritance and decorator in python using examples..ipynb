{
 "cells": [
  {
   "cell_type": "code",
   "execution_count": 19,
   "metadata": {},
   "outputs": [],
   "source": [
    "from abc import ABC, abstractmethod\n",
    "import logging\n",
    "# By default, Python does not provide abstract classes.So we import module"
   ]
  },
  {
   "cell_type": "code",
   "execution_count": 22,
   "metadata": {},
   "outputs": [
    {
     "name": "stderr",
     "output_type": "stream",
     "text": [
      "WARNING:root:my program isjava\n"
     ]
    },
    {
     "name": "stdout",
     "output_type": "stream",
     "text": [
      "My program is on python\n",
      "checking abstract\n",
      "my app isJar\n",
      "My program is on python\n",
      "I love Pubg\n",
      "checking abstract\n"
     ]
    }
   ],
   "source": [
    "class computer(ABC):\n",
    "    @abstractmethod # A method becomes abstract when decorated with the keyword\n",
    "    def process(self): # abstrat method is method without definition\n",
    "        pass\n",
    "    \n",
    "class laptop(computer):\n",
    "    def coding(self,language):\n",
    "        print(\"My program is on \"+language)\n",
    "    \n",
    "    def process(__super__):\n",
    "        print(\"checking abstract\")\n",
    "        \n",
    "class personal_computer():\n",
    "    def gaming(self):\n",
    "        print(\"I love Pubg\")\n",
    "\n",
    "class desktop(laptop,personal_computer): # multiple inheritance\n",
    "    def deploy(self,program,app):\n",
    "        logging.warning(\"my program is\"+ program)\n",
    "        print(\"my app is\"+ app)\n",
    "            \n",
    "prog1=laptop()\n",
    "prog1.coding(\"python\")\n",
    "prog1.process()\n",
    "\n",
    "prog2=desktop()\n",
    "prog2.deploy(\"java\",\"Jar\")\n",
    "prog2.coding(\"python\")\n",
    "prog2.gaming()\n",
    "prog2.process()\n",
    "\n",
    "    "
   ]
  },
  {
   "cell_type": "code",
   "execution_count": null,
   "metadata": {},
   "outputs": [],
   "source": []
  }
 ],
 "metadata": {
  "kernelspec": {
   "display_name": "Python 3",
   "language": "python",
   "name": "python3"
  },
  "language_info": {
   "codemirror_mode": {
    "name": "ipython",
    "version": 3
   },
   "file_extension": ".py",
   "mimetype": "text/x-python",
   "name": "python",
   "nbconvert_exporter": "python",
   "pygments_lexer": "ipython3",
   "version": "3.7.6"
  }
 },
 "nbformat": 4,
 "nbformat_minor": 4
}
